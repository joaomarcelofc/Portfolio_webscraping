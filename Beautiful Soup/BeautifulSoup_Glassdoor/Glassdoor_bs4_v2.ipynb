{
 "cells": [
  {
   "cell_type": "markdown",
   "id": "4994b809",
   "metadata": {},
   "source": [
    "## Web scraping utilizando o Beautiful Soup"
   ]
  },
  {
   "cell_type": "markdown",
   "id": "8894715a",
   "metadata": {},
   "source": [
    "O objetivo deste notebook é realizar a extração de dados de uma página web utilizando o pacote Beautiful Soup do Python. Se trata de uma ferramenta para analisar documentos, como HTML e XML. Ele cria uma árvore de análise para páginas analisadas que podem ser usadas para extrair dados de HTML, o que é útil para web scraping.\n",
    "\n",
    "Em nosso exemplo, vamos aplicar essa técnica ao site da Glassdoor, para extrairmos informações de salários da profissão Cientista de dados, buscando o nome da empresa, e o salário para cada uma delas."
   ]
  },
  {
   "cell_type": "markdown",
   "id": "b0faeea6",
   "metadata": {},
   "source": [
    "<center><img width=\"50%\" src=\"https://images.prismic.io/oxylabs-sm/NWNiMmRiN2MtNzlkNC00OGIxLTg4NGUtZjZlMWY1ZWQ4NmMz_using-python-and-beautiful-soup-to-parse-data-intro-tutorial2x-3.png?auto=compress,format&rect=0,0,3113,1557&w=3113&h=1557&fm=webp&q=75\"></center>"
   ]
  },
  {
   "cell_type": "code",
   "execution_count": 1,
   "id": "4ee52f8d",
   "metadata": {},
   "outputs": [],
   "source": [
    "# importar os pacotes\n",
    "import requests\n",
    "import re\n",
    "from bs4 import BeautifulSoup\n",
    "import pandas as pd\n",
    "import numpy as np"
   ]
  },
  {
   "cell_type": "code",
   "execution_count": 2,
   "id": "c728683d",
   "metadata": {},
   "outputs": [],
   "source": [
    "# requests do site, incluindo também um headers, especificando Mozilla como browser\n",
    "cabecalho = {'user-agent':'Mozilla/5.0'}\n",
    "\n",
    "response = requests.get('https://www.glassdoor.com.br/Sal%C3%A1rios/cientista-de-dados-sal%C3%A1rio-SRCH_KO0,18.htm',\n",
    "                       headers = cabecalho)\n",
    "# response.text"
   ]
  },
  {
   "cell_type": "code",
   "execution_count": 3,
   "id": "fb676d3c",
   "metadata": {},
   "outputs": [
    {
     "data": {
      "text/plain": [
       "<Response [200]>"
      ]
     },
     "execution_count": 3,
     "metadata": {},
     "output_type": "execute_result"
    }
   ],
   "source": [
    "# vamos chamar a variável response, retornando [200] significa que deu certo nossa conexão\n",
    "response"
   ]
  },
  {
   "cell_type": "code",
   "execution_count": 4,
   "id": "1ac45cb2",
   "metadata": {},
   "outputs": [],
   "source": [
    "# vamos armazenar esses dados em uma variável chamada dados_brutos, para nao ter que fazer a requisição novamente\n",
    "dados_brutos = response.text\n",
    "# dados_brutos"
   ]
  },
  {
   "cell_type": "code",
   "execution_count": 5,
   "id": "3ed8fa5b",
   "metadata": {},
   "outputs": [],
   "source": [
    "# vamos estruturar esses dados, de forma mais organizada, através do Beuatiful Soup, salvando dentro de uma nova variável 'soup'\n",
    "soup = BeautifulSoup(dados_brutos, 'html.parser')\n",
    "# soup"
   ]
  },
  {
   "cell_type": "code",
   "execution_count": 6,
   "id": "05cc9555",
   "metadata": {},
   "outputs": [],
   "source": [
    "# Se utilizarmos o método .prettify() podemos ver que os dados da variável soup são apresentados organizadamente,\n",
    "# print(soup.prettify())"
   ]
  },
  {
   "cell_type": "markdown",
   "id": "750e0f1d",
   "metadata": {},
   "source": [
    "Depois de feita nossa requisição, armazenado os dados, e aplicado o Beautiful Soup nestes dados, precisamos entender um pouco a estrutura da página onde vamos realizar o scraping. Cada página obedece uma estrutura diferente. Portanto, esse trabalho analítico, para entender a página e suas estruturas não obedece um padrão que pode ser aplicado em todos os sites. \n",
    "\n",
    "Uma forma mais prática de entender em qual estrutura se encontram os dados desejados é clicar com o botão direito no texto desejado e ir em inspecionar, o que vai abrir uma nova janela com todos os códigos html da página.\n",
    "\n",
    "Em nosso exemplo abaixo, após realizada a inspeção no html do site, verificamos que nossas informações estão dentro da tag h3, na classe que tem como atributo a expressão \"salaries-list-item-0. -employer-name\". \n",
    "\n",
    "**Importante ressaltar!** Como importamos o pacote re, de expressão regular, no início deste notebook, estamos aplicando o re.compile na expressão, e utilizando o .* Estamos fazendo isso pois a essa expressão contém um número que muda para cada empresa. Através do re.compile .* ele trará todos os elementos que possuem a expressao que inicia em \"salaries-list-item, e que apresente qualquer outro caractere logo após, independente da quantidade de vezes em que ele apareceça. O mesmo procedimento foi feito para extrairmos os salários. Evidentemente, obedecendo a estrutura em que o dado está armazenado."
   ]
  },
  {
   "cell_type": "markdown",
   "id": "62892db0",
   "metadata": {},
   "source": [
    "Procedimentos para encontrar os dados referentes ao nome das empresas."
   ]
  },
  {
   "cell_type": "code",
   "execution_count": 7,
   "id": "882f059d",
   "metadata": {},
   "outputs": [],
   "source": [
    "lista_empresas = soup.find_all('h3', {'data-test': re.compile('salaries-list-item-.*-employer-name')})\n",
    "# print(lista_empresas)"
   ]
  },
  {
   "cell_type": "code",
   "execution_count": 8,
   "id": "9811c906",
   "metadata": {},
   "outputs": [],
   "source": [
    "# A variável lista_empresas armazena todos os dados que obedecem a estrutura \"re.compile('salaries-list-item-.*-employer-name'\"\"\n",
    "# Como é uma lista, podemos acessar cada um dos seus elementos e utilizar o.contents para desmembrar os dados\n",
    "# Conforme documentado abaixo, não existe um padrão de armazenamento dos dados.\n",
    "# No primeiro caso está no contents[1], e no segundo está no contents[2]\n",
    "# Portanto, temos que encotrar um novo padrão\n",
    "# print(lista_empresas[0].contents[1])\n",
    "# print(lista_empresas[1].contents[0])"
   ]
  },
  {
   "cell_type": "code",
   "execution_count": 9,
   "id": "894ad2b5",
   "metadata": {},
   "outputs": [
    {
     "name": "stdout",
     "output_type": "stream",
     "text": [
      "Itaú Unibanco (Itaú BBA e Rede)\n",
      "IBM\n",
      "Semantix\n"
     ]
    }
   ],
   "source": [
    "# Conforme documentado abaixo, se utilizarmos .find('a'), podemos localizar os dados ref aos nomes das empresas.\n",
    "# Para exibirmos o texto, basta utilizarmos .text\n",
    "print(lista_empresas[0].find('a').text)\n",
    "print(lista_empresas[1].find('a').text)\n",
    "print(lista_empresas[2].find('a').text)"
   ]
  },
  {
   "cell_type": "code",
   "execution_count": 10,
   "id": "7dd59bf6",
   "metadata": {},
   "outputs": [
    {
     "name": "stdout",
     "output_type": "stream",
     "text": [
      "Itaú Unibanco (Itaú BBA e Rede)\n",
      "IBM\n",
      "Semantix\n",
      "Hospital Israelita Albert Einstein\n",
      "Banco Bradesco\n",
      "Propz\n",
      "Radix Engenharia e Software\n",
      "Autônomo (Brazil)\n",
      "TOTVS\n",
      "Stefanini\n",
      "Softplan\n",
      "Nubank\n",
      "Grupo Globo\n",
      "Globo\n",
      "Ambev Tech\n",
      "Ambev\n",
      "Dasa\n",
      "Ipiranga\n",
      "Via\n",
      "Aquarela Advanced Analytics\n"
     ]
    }
   ],
   "source": [
    "# Após esse entendimento, podemos utilizar tudo isso dentro de uma estrutura for\n",
    "for empresa in lista_empresas:\n",
    "    nome_empresa = empresa.find('a').text\n",
    "    print(nome_empresa)"
   ]
  },
  {
   "cell_type": "markdown",
   "id": "f9d6d017",
   "metadata": {},
   "source": [
    "Procedimentos para encontrar os dados referentes aos salários."
   ]
  },
  {
   "cell_type": "code",
   "execution_count": 11,
   "id": "310075f5",
   "metadata": {},
   "outputs": [],
   "source": [
    "lista_salarios = soup.find_all('div', {'data-test': re.compile('salaries-list-item-.*-salary-info')})\n",
    "# print(lista_salarios)"
   ]
  },
  {
   "cell_type": "code",
   "execution_count": 12,
   "id": "003c3571",
   "metadata": {},
   "outputs": [
    {
     "name": "stdout",
     "output_type": "stream",
     "text": [
      "R$ 10.326\n",
      "R$ 5.748\n",
      "R$ 8.887\n"
     ]
    }
   ],
   "source": [
    "# A variável lista_salarios armazena todos os dados que obedecem a estrutura \"re.compile('salaries-list-item-.*-salary-info'\"\"\n",
    "# Como é uma lista, podemos acessar cada um dos seus elementos e utilizar o.contents para desmembrar os dados\n",
    "# Conforme documentado abaixo, verificamos um certo padrão na estrutura dos dados, ao utilizarmos o .contents\n",
    "print(lista_salarios[0].contents[0].text)\n",
    "print(lista_salarios[1].contents[0].text)\n",
    "print(lista_salarios[2].contents[0].text)"
   ]
  },
  {
   "cell_type": "code",
   "execution_count": 13,
   "id": "dff682e1",
   "metadata": {},
   "outputs": [
    {
     "data": {
      "text/plain": [
       "'10326'"
      ]
     },
     "execution_count": 13,
     "metadata": {},
     "output_type": "execute_result"
    }
   ],
   "source": [
    "# Vamos salvar esse valor salário dentro de uma variável\n",
    "# Vamos utilizar o .replace para limpar os dados extraídos\n",
    "salario = lista_salarios[0].contents[0].text\n",
    "salario = salario.replace('R$', '').replace('\\xa0', '').replace('.','')\n",
    "salario"
   ]
  },
  {
   "cell_type": "code",
   "execution_count": 14,
   "id": "19f4bcd9",
   "metadata": {},
   "outputs": [
    {
     "name": "stdout",
     "output_type": "stream",
     "text": [
      "10326\n",
      "5748\n",
      "8887\n",
      "12869\n",
      "7375\n",
      "7170\n",
      "8139\n",
      "6063\n",
      "11490\n",
      "7025\n",
      "10566\n",
      "12000\n",
      "8636\n",
      "10396\n",
      "9740\n",
      "9727\n",
      "8216\n",
      "6600\n",
      "10483\n",
      "5000\n"
     ]
    }
   ],
   "source": [
    "# Após esse entendimento, também podemos utilizar tudo isso dentro de uma estrutura for\n",
    "for salario in lista_salarios:\n",
    "    str_salario = salario.contents[0].text\n",
    "    str_salario = str_salario.replace('R$', '').replace('\\xa0', '').replace('.','')\n",
    "    print(str_salario)"
   ]
  },
  {
   "cell_type": "markdown",
   "id": "2e344e7f",
   "metadata": {},
   "source": [
    "Vamos agora juntar os dois dados, referentes ao nome da empresa e salário, em um novo conjunto de dados. Para isso, vamos utilizar a função zip. Essa função ombina dados de vários iteráveis, de forma que o i-ésimo elemento da tupla contenha o i-ésimo elemento de cada um dos iteráveis recebidos por parâmetro. A iteração é interrompida quando já tiver percorrido todos os elementos do menor dos iteráveis.\n",
    "\n",
    "Logo após essa junção utilizando o zip, vamos salvar os dados em um data frame"
   ]
  },
  {
   "cell_type": "code",
   "execution_count": 15,
   "id": "bf1b64f6",
   "metadata": {},
   "outputs": [
    {
     "data": {
      "text/plain": [
       "[('Itaú Unibanco (Itaú BBA e Rede)', '10326'),\n",
       " ('IBM', '5748'),\n",
       " ('Semantix', '8887'),\n",
       " ('Hospital Israelita Albert Einstein', '12869'),\n",
       " ('Banco Bradesco', '7375'),\n",
       " ('Propz', '7170'),\n",
       " ('Radix Engenharia e Software', '8139'),\n",
       " ('Autônomo (Brazil)', '6063'),\n",
       " ('TOTVS', '11490'),\n",
       " ('Stefanini', '7025'),\n",
       " ('Softplan', '10566'),\n",
       " ('Nubank', '12000'),\n",
       " ('Grupo Globo', '8636'),\n",
       " ('Globo', '10396'),\n",
       " ('Ambev Tech', '9740'),\n",
       " ('Ambev', '9727'),\n",
       " ('Dasa', '8216'),\n",
       " ('Ipiranga', '6600'),\n",
       " ('Via', '10483'),\n",
       " ('Aquarela Advanced Analytics', '5000')]"
      ]
     },
     "execution_count": 15,
     "metadata": {},
     "output_type": "execute_result"
    }
   ],
   "source": [
    "lista_todos_salarios = []\n",
    "\n",
    "for empresa, salario in zip(lista_empresas, lista_salarios):\n",
    "    nome_empresa = empresa.find('a').text\n",
    "    \n",
    "    str_salario = salario.contents[0].text\n",
    "    str_salario = str_salario.replace('R$', '').replace('\\xa0', '').replace('.','')\n",
    "    \n",
    "    lista_todos_salarios.append((nome_empresa, str_salario))\n",
    "lista_todos_salarios"
   ]
  },
  {
   "cell_type": "code",
   "execution_count": 16,
   "id": "0ed3dfa4",
   "metadata": {},
   "outputs": [
    {
     "data": {
      "text/html": [
       "<div>\n",
       "<style scoped>\n",
       "    .dataframe tbody tr th:only-of-type {\n",
       "        vertical-align: middle;\n",
       "    }\n",
       "\n",
       "    .dataframe tbody tr th {\n",
       "        vertical-align: top;\n",
       "    }\n",
       "\n",
       "    .dataframe thead th {\n",
       "        text-align: right;\n",
       "    }\n",
       "</style>\n",
       "<table border=\"1\" class=\"dataframe\">\n",
       "  <thead>\n",
       "    <tr style=\"text-align: right;\">\n",
       "      <th></th>\n",
       "      <th>empresa</th>\n",
       "      <th>salario</th>\n",
       "    </tr>\n",
       "  </thead>\n",
       "  <tbody>\n",
       "    <tr>\n",
       "      <th>0</th>\n",
       "      <td>Itaú Unibanco (Itaú BBA e Rede)</td>\n",
       "      <td>10326</td>\n",
       "    </tr>\n",
       "    <tr>\n",
       "      <th>1</th>\n",
       "      <td>IBM</td>\n",
       "      <td>5748</td>\n",
       "    </tr>\n",
       "    <tr>\n",
       "      <th>2</th>\n",
       "      <td>Semantix</td>\n",
       "      <td>8887</td>\n",
       "    </tr>\n",
       "    <tr>\n",
       "      <th>3</th>\n",
       "      <td>Hospital Israelita Albert Einstein</td>\n",
       "      <td>12869</td>\n",
       "    </tr>\n",
       "    <tr>\n",
       "      <th>4</th>\n",
       "      <td>Banco Bradesco</td>\n",
       "      <td>7375</td>\n",
       "    </tr>\n",
       "    <tr>\n",
       "      <th>5</th>\n",
       "      <td>Propz</td>\n",
       "      <td>7170</td>\n",
       "    </tr>\n",
       "    <tr>\n",
       "      <th>6</th>\n",
       "      <td>Radix Engenharia e Software</td>\n",
       "      <td>8139</td>\n",
       "    </tr>\n",
       "    <tr>\n",
       "      <th>7</th>\n",
       "      <td>Autônomo (Brazil)</td>\n",
       "      <td>6063</td>\n",
       "    </tr>\n",
       "    <tr>\n",
       "      <th>8</th>\n",
       "      <td>TOTVS</td>\n",
       "      <td>11490</td>\n",
       "    </tr>\n",
       "    <tr>\n",
       "      <th>9</th>\n",
       "      <td>Stefanini</td>\n",
       "      <td>7025</td>\n",
       "    </tr>\n",
       "    <tr>\n",
       "      <th>10</th>\n",
       "      <td>Softplan</td>\n",
       "      <td>10566</td>\n",
       "    </tr>\n",
       "    <tr>\n",
       "      <th>11</th>\n",
       "      <td>Nubank</td>\n",
       "      <td>12000</td>\n",
       "    </tr>\n",
       "    <tr>\n",
       "      <th>12</th>\n",
       "      <td>Grupo Globo</td>\n",
       "      <td>8636</td>\n",
       "    </tr>\n",
       "    <tr>\n",
       "      <th>13</th>\n",
       "      <td>Globo</td>\n",
       "      <td>10396</td>\n",
       "    </tr>\n",
       "    <tr>\n",
       "      <th>14</th>\n",
       "      <td>Ambev Tech</td>\n",
       "      <td>9740</td>\n",
       "    </tr>\n",
       "    <tr>\n",
       "      <th>15</th>\n",
       "      <td>Ambev</td>\n",
       "      <td>9727</td>\n",
       "    </tr>\n",
       "    <tr>\n",
       "      <th>16</th>\n",
       "      <td>Dasa</td>\n",
       "      <td>8216</td>\n",
       "    </tr>\n",
       "    <tr>\n",
       "      <th>17</th>\n",
       "      <td>Ipiranga</td>\n",
       "      <td>6600</td>\n",
       "    </tr>\n",
       "    <tr>\n",
       "      <th>18</th>\n",
       "      <td>Via</td>\n",
       "      <td>10483</td>\n",
       "    </tr>\n",
       "    <tr>\n",
       "      <th>19</th>\n",
       "      <td>Aquarela Advanced Analytics</td>\n",
       "      <td>5000</td>\n",
       "    </tr>\n",
       "  </tbody>\n",
       "</table>\n",
       "</div>"
      ],
      "text/plain": [
       "                               empresa salario\n",
       "0      Itaú Unibanco (Itaú BBA e Rede)   10326\n",
       "1                                  IBM    5748\n",
       "2                             Semantix    8887\n",
       "3   Hospital Israelita Albert Einstein   12869\n",
       "4                       Banco Bradesco    7375\n",
       "5                                Propz    7170\n",
       "6          Radix Engenharia e Software    8139\n",
       "7                    Autônomo (Brazil)    6063\n",
       "8                                TOTVS   11490\n",
       "9                            Stefanini    7025\n",
       "10                            Softplan   10566\n",
       "11                              Nubank   12000\n",
       "12                         Grupo Globo    8636\n",
       "13                               Globo   10396\n",
       "14                          Ambev Tech    9740\n",
       "15                               Ambev    9727\n",
       "16                                Dasa    8216\n",
       "17                            Ipiranga    6600\n",
       "18                                 Via   10483\n",
       "19         Aquarela Advanced Analytics    5000"
      ]
     },
     "execution_count": 16,
     "metadata": {},
     "output_type": "execute_result"
    }
   ],
   "source": [
    "# Salvando os dados em um dataframe, para trabalharmos com essas informações no pandas\n",
    "df_salarios = pd.DataFrame(lista_todos_salarios, columns=['empresa', 'salario'])\n",
    "df_salarios"
   ]
  },
  {
   "cell_type": "code",
   "execution_count": 17,
   "id": "04f35fb0",
   "metadata": {},
   "outputs": [
    {
     "data": {
      "text/plain": [
       "empresa    object\n",
       "salario    object\n",
       "dtype: object"
      ]
     },
     "execution_count": 17,
     "metadata": {},
     "output_type": "execute_result"
    }
   ],
   "source": [
    "# Vamos configurar os tipos de dados salvos no dataframe\n",
    "# Verificamos que o tipo das informações é objeto. Vamos converter os dados de salário para float.\n",
    "df_salarios.dtypes"
   ]
  },
  {
   "cell_type": "code",
   "execution_count": 18,
   "id": "80f6c585",
   "metadata": {},
   "outputs": [
    {
     "data": {
      "text/plain": [
       "empresa     object\n",
       "salario    float32\n",
       "dtype: object"
      ]
     },
     "execution_count": 18,
     "metadata": {},
     "output_type": "execute_result"
    }
   ],
   "source": [
    "df_salarios['salario'] = df_salarios['salario'].astype(np.float32)\n",
    "df_salarios.dtypes"
   ]
  },
  {
   "cell_type": "code",
   "execution_count": 19,
   "id": "f01062c4",
   "metadata": {},
   "outputs": [
    {
     "data": {
      "text/html": [
       "<div>\n",
       "<style scoped>\n",
       "    .dataframe tbody tr th:only-of-type {\n",
       "        vertical-align: middle;\n",
       "    }\n",
       "\n",
       "    .dataframe tbody tr th {\n",
       "        vertical-align: top;\n",
       "    }\n",
       "\n",
       "    .dataframe thead th {\n",
       "        text-align: right;\n",
       "    }\n",
       "</style>\n",
       "<table border=\"1\" class=\"dataframe\">\n",
       "  <thead>\n",
       "    <tr style=\"text-align: right;\">\n",
       "      <th></th>\n",
       "      <th>empresa</th>\n",
       "      <th>salario</th>\n",
       "    </tr>\n",
       "  </thead>\n",
       "  <tbody>\n",
       "    <tr>\n",
       "      <th>0</th>\n",
       "      <td>Itaú Unibanco (Itaú BBA e Rede)</td>\n",
       "      <td>10326.0</td>\n",
       "    </tr>\n",
       "    <tr>\n",
       "      <th>1</th>\n",
       "      <td>IBM</td>\n",
       "      <td>5748.0</td>\n",
       "    </tr>\n",
       "    <tr>\n",
       "      <th>2</th>\n",
       "      <td>Semantix</td>\n",
       "      <td>8887.0</td>\n",
       "    </tr>\n",
       "    <tr>\n",
       "      <th>3</th>\n",
       "      <td>Hospital Israelita Albert Einstein</td>\n",
       "      <td>12869.0</td>\n",
       "    </tr>\n",
       "    <tr>\n",
       "      <th>4</th>\n",
       "      <td>Banco Bradesco</td>\n",
       "      <td>7375.0</td>\n",
       "    </tr>\n",
       "    <tr>\n",
       "      <th>5</th>\n",
       "      <td>Propz</td>\n",
       "      <td>7170.0</td>\n",
       "    </tr>\n",
       "    <tr>\n",
       "      <th>6</th>\n",
       "      <td>Radix Engenharia e Software</td>\n",
       "      <td>8139.0</td>\n",
       "    </tr>\n",
       "    <tr>\n",
       "      <th>7</th>\n",
       "      <td>Autônomo (Brazil)</td>\n",
       "      <td>6063.0</td>\n",
       "    </tr>\n",
       "    <tr>\n",
       "      <th>8</th>\n",
       "      <td>TOTVS</td>\n",
       "      <td>11490.0</td>\n",
       "    </tr>\n",
       "    <tr>\n",
       "      <th>9</th>\n",
       "      <td>Stefanini</td>\n",
       "      <td>7025.0</td>\n",
       "    </tr>\n",
       "    <tr>\n",
       "      <th>10</th>\n",
       "      <td>Softplan</td>\n",
       "      <td>10566.0</td>\n",
       "    </tr>\n",
       "    <tr>\n",
       "      <th>11</th>\n",
       "      <td>Nubank</td>\n",
       "      <td>12000.0</td>\n",
       "    </tr>\n",
       "    <tr>\n",
       "      <th>12</th>\n",
       "      <td>Grupo Globo</td>\n",
       "      <td>8636.0</td>\n",
       "    </tr>\n",
       "    <tr>\n",
       "      <th>13</th>\n",
       "      <td>Globo</td>\n",
       "      <td>10396.0</td>\n",
       "    </tr>\n",
       "    <tr>\n",
       "      <th>14</th>\n",
       "      <td>Ambev Tech</td>\n",
       "      <td>9740.0</td>\n",
       "    </tr>\n",
       "    <tr>\n",
       "      <th>15</th>\n",
       "      <td>Ambev</td>\n",
       "      <td>9727.0</td>\n",
       "    </tr>\n",
       "    <tr>\n",
       "      <th>16</th>\n",
       "      <td>Dasa</td>\n",
       "      <td>8216.0</td>\n",
       "    </tr>\n",
       "    <tr>\n",
       "      <th>17</th>\n",
       "      <td>Ipiranga</td>\n",
       "      <td>6600.0</td>\n",
       "    </tr>\n",
       "    <tr>\n",
       "      <th>18</th>\n",
       "      <td>Via</td>\n",
       "      <td>10483.0</td>\n",
       "    </tr>\n",
       "    <tr>\n",
       "      <th>19</th>\n",
       "      <td>Aquarela Advanced Analytics</td>\n",
       "      <td>5000.0</td>\n",
       "    </tr>\n",
       "  </tbody>\n",
       "</table>\n",
       "</div>"
      ],
      "text/plain": [
       "                               empresa  salario\n",
       "0      Itaú Unibanco (Itaú BBA e Rede)  10326.0\n",
       "1                                  IBM   5748.0\n",
       "2                             Semantix   8887.0\n",
       "3   Hospital Israelita Albert Einstein  12869.0\n",
       "4                       Banco Bradesco   7375.0\n",
       "5                                Propz   7170.0\n",
       "6          Radix Engenharia e Software   8139.0\n",
       "7                    Autônomo (Brazil)   6063.0\n",
       "8                                TOTVS  11490.0\n",
       "9                            Stefanini   7025.0\n",
       "10                            Softplan  10566.0\n",
       "11                              Nubank  12000.0\n",
       "12                         Grupo Globo   8636.0\n",
       "13                               Globo  10396.0\n",
       "14                          Ambev Tech   9740.0\n",
       "15                               Ambev   9727.0\n",
       "16                                Dasa   8216.0\n",
       "17                            Ipiranga   6600.0\n",
       "18                                 Via  10483.0\n",
       "19         Aquarela Advanced Analytics   5000.0"
      ]
     },
     "execution_count": 19,
     "metadata": {},
     "output_type": "execute_result"
    }
   ],
   "source": [
    "df_salarios"
   ]
  },
  {
   "cell_type": "markdown",
   "id": "38d52112",
   "metadata": {},
   "source": [
    "Agora, vamos criar uma função, que receberá todos os códigos documentados acima, de forma que possamos aplicar essa técnica de scraping do site glassdoor para qualquer cargo, sem tem que executar todos os comandos e procuras novamente. Evidentemente a função será válida apenas para o site da Glassdoor."
   ]
  },
  {
   "cell_type": "code",
   "execution_count": 20,
   "id": "45a7cbaf",
   "metadata": {},
   "outputs": [],
   "source": [
    "def busca_salarios_glassdoor(url_glassdoor):\n",
    "    cabecalho = {'user-agent':'Mozilla/5.0'}\n",
    "    \n",
    "    resposta = requests.get(url_glassdoor, headers = cabecalho)\n",
    "    dados_brutos = resposta.text\n",
    "    \n",
    "    soup = BeautifulSoup(dados_brutos, 'html.parser')\n",
    "    \n",
    "    lista_empresas = soup.find_all('h3', \n",
    "                {'data-test': re.compile('salaries-list-item-.*-employer-name')})\n",
    "    \n",
    "    lista_salarios = soup.find_all('div', \n",
    "                {'data-test': re.compile('salaries-list-item-.*-salary-info')})\n",
    "    \n",
    "    lista_todos_salarios = []\n",
    "\n",
    "    for empresa, salario in zip(lista_empresas, lista_salarios):\n",
    "        nome_empresa = empresa.find('a').text\n",
    "\n",
    "        str_salario = salario.contents[0].text\n",
    "        str_salario = str_salario.replace('R$', '').replace('\\xa0', '').replace('.','')\n",
    "\n",
    "        lista_todos_salarios.append((nome_empresa, str_salario))\n",
    "    \n",
    "    df_salarios = pd.DataFrame(lista_todos_salarios, columns=['empresa', 'salario'])\n",
    "    df_salarios['salario'] = df_salarios['salario'].astype(np.float32)\n",
    "    \n",
    "    return df_salarios\n",
    "    "
   ]
  },
  {
   "cell_type": "markdown",
   "id": "8ab39186",
   "metadata": {},
   "source": [
    "Abaixo, ablicamos a função para outro link, que se refere a pesquisa de salários da profissão contador no Glassdoor. O resultado da função é um dataframe contendo todos os dados da página, já convertidos e organizados."
   ]
  },
  {
   "cell_type": "code",
   "execution_count": 21,
   "id": "bbfad57f",
   "metadata": {},
   "outputs": [
    {
     "data": {
      "text/html": [
       "<div>\n",
       "<style scoped>\n",
       "    .dataframe tbody tr th:only-of-type {\n",
       "        vertical-align: middle;\n",
       "    }\n",
       "\n",
       "    .dataframe tbody tr th {\n",
       "        vertical-align: top;\n",
       "    }\n",
       "\n",
       "    .dataframe thead th {\n",
       "        text-align: right;\n",
       "    }\n",
       "</style>\n",
       "<table border=\"1\" class=\"dataframe\">\n",
       "  <thead>\n",
       "    <tr style=\"text-align: right;\">\n",
       "      <th></th>\n",
       "      <th>empresa</th>\n",
       "      <th>salario</th>\n",
       "    </tr>\n",
       "  </thead>\n",
       "  <tbody>\n",
       "    <tr>\n",
       "      <th>0</th>\n",
       "      <td>Autônomo (Brazil)</td>\n",
       "      <td>3669.0</td>\n",
       "    </tr>\n",
       "    <tr>\n",
       "      <th>1</th>\n",
       "      <td>Contabilidade</td>\n",
       "      <td>4112.0</td>\n",
       "    </tr>\n",
       "    <tr>\n",
       "      <th>2</th>\n",
       "      <td>Petrobras Energía</td>\n",
       "      <td>16556.0</td>\n",
       "    </tr>\n",
       "    <tr>\n",
       "      <th>3</th>\n",
       "      <td>Divulga Vagas</td>\n",
       "      <td>4845.0</td>\n",
       "    </tr>\n",
       "    <tr>\n",
       "      <th>4</th>\n",
       "      <td>Novonor</td>\n",
       "      <td>11124.0</td>\n",
       "    </tr>\n",
       "    <tr>\n",
       "      <th>5</th>\n",
       "      <td>Contabilizei</td>\n",
       "      <td>5010.0</td>\n",
       "    </tr>\n",
       "    <tr>\n",
       "      <th>6</th>\n",
       "      <td>Vale</td>\n",
       "      <td>7597.0</td>\n",
       "    </tr>\n",
       "    <tr>\n",
       "      <th>7</th>\n",
       "      <td>Furnas</td>\n",
       "      <td>8934.0</td>\n",
       "    </tr>\n",
       "    <tr>\n",
       "      <th>8</th>\n",
       "      <td>Igreja Adventista do Sétimo Dia</td>\n",
       "      <td>2859.0</td>\n",
       "    </tr>\n",
       "    <tr>\n",
       "      <th>9</th>\n",
       "      <td>Autônomo</td>\n",
       "      <td>4955.0</td>\n",
       "    </tr>\n",
       "    <tr>\n",
       "      <th>10</th>\n",
       "      <td>Unimed</td>\n",
       "      <td>5679.0</td>\n",
       "    </tr>\n",
       "    <tr>\n",
       "      <th>11</th>\n",
       "      <td>Agenda Assessoria</td>\n",
       "      <td>2590.0</td>\n",
       "    </tr>\n",
       "    <tr>\n",
       "      <th>12</th>\n",
       "      <td>Celesc</td>\n",
       "      <td>8728.0</td>\n",
       "    </tr>\n",
       "    <tr>\n",
       "      <th>13</th>\n",
       "      <td>Machado Contabilidade</td>\n",
       "      <td>4307.0</td>\n",
       "    </tr>\n",
       "    <tr>\n",
       "      <th>14</th>\n",
       "      <td>Autônomo (Brazil)</td>\n",
       "      <td>6929.0</td>\n",
       "    </tr>\n",
       "    <tr>\n",
       "      <th>15</th>\n",
       "      <td>Autônomo</td>\n",
       "      <td>8922.0</td>\n",
       "    </tr>\n",
       "    <tr>\n",
       "      <th>16</th>\n",
       "      <td>Dow</td>\n",
       "      <td>8678.0</td>\n",
       "    </tr>\n",
       "    <tr>\n",
       "      <th>17</th>\n",
       "      <td>Indústria de Material Bélico do Brasil (IMBEL)</td>\n",
       "      <td>5238.0</td>\n",
       "    </tr>\n",
       "    <tr>\n",
       "      <th>18</th>\n",
       "      <td>Universidade de Brasília (UBN)</td>\n",
       "      <td>9575.0</td>\n",
       "    </tr>\n",
       "    <tr>\n",
       "      <th>19</th>\n",
       "      <td>autonomo</td>\n",
       "      <td>4000.0</td>\n",
       "    </tr>\n",
       "  </tbody>\n",
       "</table>\n",
       "</div>"
      ],
      "text/plain": [
       "                                           empresa  salario\n",
       "0                                Autônomo (Brazil)   3669.0\n",
       "1                                    Contabilidade   4112.0\n",
       "2                                Petrobras Energía  16556.0\n",
       "3                                    Divulga Vagas   4845.0\n",
       "4                                          Novonor  11124.0\n",
       "5                                     Contabilizei   5010.0\n",
       "6                                             Vale   7597.0\n",
       "7                                           Furnas   8934.0\n",
       "8                  Igreja Adventista do Sétimo Dia   2859.0\n",
       "9                                         Autônomo   4955.0\n",
       "10                                          Unimed   5679.0\n",
       "11                               Agenda Assessoria   2590.0\n",
       "12                                          Celesc   8728.0\n",
       "13                           Machado Contabilidade   4307.0\n",
       "14                               Autônomo (Brazil)   6929.0\n",
       "15                                        Autônomo   8922.0\n",
       "16                                             Dow   8678.0\n",
       "17  Indústria de Material Bélico do Brasil (IMBEL)   5238.0\n",
       "18                  Universidade de Brasília (UBN)   9575.0\n",
       "19                                        autonomo   4000.0"
      ]
     },
     "execution_count": 21,
     "metadata": {},
     "output_type": "execute_result"
    }
   ],
   "source": [
    "df_contador = busca_salarios_glassdoor('https://www.glassdoor.com.br/Sal%C3%A1rios/contador-sal%C3%A1rio-SRCH_KO0,8.htm')\n",
    "df_contador"
   ]
  }
 ],
 "metadata": {
  "kernelspec": {
   "display_name": "Python 3 (ipykernel)",
   "language": "python",
   "name": "python3"
  },
  "language_info": {
   "codemirror_mode": {
    "name": "ipython",
    "version": 3
   },
   "file_extension": ".py",
   "mimetype": "text/x-python",
   "name": "python",
   "nbconvert_exporter": "python",
   "pygments_lexer": "ipython3",
   "version": "3.10.2"
  }
 },
 "nbformat": 4,
 "nbformat_minor": 5
}
